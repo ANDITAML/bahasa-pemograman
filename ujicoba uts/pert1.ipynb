{
 "cells": [
  {
   "cell_type": "markdown",
   "metadata": {},
   "source": [
    "# nama: Andita aditia\n",
    "# nim: 20230801318\n",
    "# tema data komplen/pengaduan "
   ]
  },
  {
   "cell_type": "markdown",
   "metadata": {},
   "source": [
    "### analisis\n",
    "\n",
    "## Menambahkan Pengaduan Baru: Menambahkan entri baru ke dalam file CSV.\n",
    "## Melihat Semua Pengaduan: Menampilkan semua data pengaduan yang telah disimpan.\n",
    "## Mencari Pengaduan Berdasarkan ID: Mencari dan menampilkan pengaduan tertentu berdasarkan ID."
   ]
  },
  {
   "cell_type": "code",
   "execution_count": 14,
   "metadata": {},
   "outputs": [
    {
     "name": "stdout",
     "output_type": "stream",
     "text": [
      "Pengaduan ID 1 telah ditambahkan.\n",
      "Pengaduan ID 2 telah ditambahkan.\n",
      "Pengaduan ID 3 telah ditambahkan.\n",
      "Pengaduan ID 4 telah ditambahkan.\n",
      "Semua pengaduan:\n",
      "['ID', 'Nama', 'Email', 'Deskripsi']\n",
      "['1', 'yuni', 'yuni@example.com', 'Komplain tentang produk sepatu.']\n",
      "['2', 'Salsa bila', 'salsa@example.com', 'Pengaduan mengenai layanan internet.']\n",
      "['3', 'putri', 'putri@example.com', 'Komplain tentang produk tas.']\n",
      "['4', 'scinta', 'scinta@example.com', 'Pengaduan mengenai layanan hotel.']\n",
      "Mencari pengaduan dengan ID 1:\n",
      "['3', 'putri', 'putri@example.com', 'Komplain tentang produk tas.']\n"
     ]
    }
   ],
   "source": [
    "import csv\n",
    "import os\n",
    "\n",
    "# Nama file untuk menyimpan data pengaduan\n",
    "file_name = 'pengaduan.csv'\n",
    "\n",
    "# Memeriksa apakah file pengaduan sudah ada atau belum\n",
    "if not os.path.exists(file_name):\n",
    "    # Jika belum ada, buat file dan tulis header\n",
    "    with open(file_name, mode='w', newline='') as file:\n",
    "        writer = csv.writer(file)\n",
    "        writer.writerow(['ID', 'Nama', 'Email', 'Deskripsi'])\n",
    "\n",
    "# Fungsi untuk menambahkan pengaduan baru\n",
    "def tambah_pengaduan(nama, email, deskripsi):\n",
    "    # Membaca ID terakhir dari file pengaduan\n",
    "    with open(file_name, mode='r', newline='') as file:\n",
    "        reader = csv.reader(file)\n",
    "        data = list(reader)\n",
    "        if len(data) > 1:\n",
    "            last_id = int(data[-1][0])\n",
    "        else:\n",
    "            last_id = 0\n",
    "\n",
    "    # Menambah pengaduan baru\n",
    "    new_id = last_id + 1\n",
    "    with open(file_name, mode='a', newline='') as file:\n",
    "        writer = csv.writer(file)\n",
    "        writer.writerow([new_id, nama, email, deskripsi])\n",
    "    print(f'Pengaduan ID {new_id} telah ditambahkan.')\n",
    "\n",
    "# Fungsi untuk melihat semua pengaduan\n",
    "def lihat_pengaduan():\n",
    "    with open(file_name, mode='r', newline='') as file:\n",
    "        reader = csv.reader(file)\n",
    "        for row in reader:\n",
    "            print(row)\n",
    "\n",
    "# Fungsi untuk mencari pengaduan berdasarkan ID\n",
    "def cari_pengaduan(id_pengaduan):\n",
    "    with open(file_name, mode='r', newline='') as file:\n",
    "        reader = csv.reader(file)\n",
    "        for row in reader:\n",
    "            if row[0] == str(id_pengaduan):\n",
    "                print(row)\n",
    "                return\n",
    "    print(f'Pengaduan dengan ID {id_pengaduan} tidak ditemukan.')\n",
    "\n",
    "# Contoh penggunaan\n",
    "tambah_pengaduan('yuni', 'yuni@example.com', 'Komplain tentang produk sepatu.')\n",
    "tambah_pengaduan('Salsa bila', 'salsa@example.com', 'Pengaduan mengenai layanan internet.')\n",
    "tambah_pengaduan('putri', 'putri@example.com', 'Komplain tentang produk tas.')\n",
    "tambah_pengaduan('scinta', 'scinta@example.com', 'Pengaduan mengenai layanan hotel.')\n",
    "\n",
    "print('Semua pengaduan:')\n",
    "lihat_pengaduan()\n",
    "\n",
    "print('Mencari pengaduan dengan ID 1:')\n",
    "cari_pengaduan(3)\n"
   ]
  }
 ],
 "metadata": {
  "kernelspec": {
   "display_name": "Python 3",
   "language": "python",
   "name": "python3"
  },
  "language_info": {
   "codemirror_mode": {
    "name": "ipython",
    "version": 3
   },
   "file_extension": ".py",
   "mimetype": "text/x-python",
   "name": "python",
   "nbconvert_exporter": "python",
   "pygments_lexer": "ipython3",
   "version": "3.10.12"
  }
 },
 "nbformat": 4,
 "nbformat_minor": 2
}
