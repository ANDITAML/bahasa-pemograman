{
 "cells": [
  {
   "cell_type": "markdown",
   "metadata": {},
   "source": [
    "### Function adalah blok kode yang dirancang untuk melakukan tugas tertentu dan dapat dipanggil di tempat lain dalam program. Functions membantu dalam mengatur kode dengan lebih baik, meningkatkan keterbacaan, dan mengurangi pengulangan. contohnya adalah sebuah angka.\n",
    "### Recursive function adalah function yang memanggil dirinya sendiri untuk menyelesaikan masalah yang lebih besar dengan memecahnya menjadi sub-masalah yang lebih kecil. Recursive functions biasanya memerlukan kondisi dasar (base case) untuk menghentikan rekursi agar tidak berjalan tanpa henti. contoh recursive function untuk menghitung faktorial dari sebuah angk."
   ]
  },
  {
   "cell_type": "code",
   "execution_count": 1,
   "metadata": {},
   "outputs": [
    {
     "name": "stdout",
     "output_type": "stream",
     "text": [
      "Hasil penjumlahan: 8\n",
      "Hasil faktorial: 120\n"
     ]
    }
   ],
   "source": [
    "def tambah(angka1, angka2):\n",
    "    return angka1 + angka2\n",
    "\n",
    "hasil = tambah(5, 3)\n",
    "print(\"Hasil penjumlahan:\", hasil)\n",
    "def faktorial(n):\n",
    "    if n == 1:  # Base case\n",
    "        return 1\n",
    "    else:\n",
    "        return n * faktorial(n - 1)  # Recursive case\n",
    "\n",
    "hasil = faktorial(5)\n",
    "print(\"Hasil faktorial:\", hasil)\n",
    "\n",
    "\n",
    "\n"
   ]
  }
 ],
 "metadata": {
  "kernelspec": {
   "display_name": "Python 3",
   "language": "python",
   "name": "python3"
  },
  "language_info": {
   "codemirror_mode": {
    "name": "ipython",
    "version": 3
   },
   "file_extension": ".py",
   "mimetype": "text/x-python",
   "name": "python",
   "nbconvert_exporter": "python",
   "pygments_lexer": "ipython3",
   "version": "3.10.12"
  }
 },
 "nbformat": 4,
 "nbformat_minor": 2
}
