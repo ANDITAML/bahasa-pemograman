{
 "cells": [
  {
   "cell_type": "code",
   "execution_count": null,
   "metadata": {},
   "outputs": [],
   "source": [
    "import tkinter as tk\n",
    "from tkinter import messagebox\n",
    "\n",
    "# Function to handle button click\n",
    "def on_button_click():\n",
    "    messagebox.showinfo(\"Information\", \"Button Clicked!\")\n",
    "\n",
    "# Create an instance of Tkinter\n",
    "root = tk.Tk()\n",
    "root.title(\"Simple GUI with Tkinter\")\n",
    "root.geometry(\"300x200\")\n",
    "\n",
    "# Create a label\n",
    "label = tk.Label(root, text=\"Hello, GUI!\", font=(\"Arial\", 14))\n",
    "label.pack(pady=20)\n",
    "\n",
    "# Create a button\n",
    "button = tk.Button(root, text=\"Click Me\", command=on_button_click)\n",
    "button.pack(pady=10)\n",
    "\n",
    "# Run the application\n",
    "root.mainloop()\n"
   ]
  }
 ],
 "metadata": {
  "language_info": {
   "name": "python"
  }
 },
 "nbformat": 4,
 "nbformat_minor": 5
}
