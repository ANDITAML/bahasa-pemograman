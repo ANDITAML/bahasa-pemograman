{
 "cells": [
  {
   "cell_type": "code",
   "execution_count": null,
   "metadata": {},
   "outputs": [],
   "source": [
    "jelaskan menurut anda bagaimana aplikasi bisa berkomunikasi dengan database dari sisi bahas pemograman pythone ini serta berikan contoh codingan serta capture \n",
    "\n",
    "cara menggunakan kelas DataContext untuk menyambung ke database.  dapat menggunakan ExecuteCommand untuk mengirim perintah bahasa SQL. Memberikan contoh bagaimana menggunakan koneksi ADO.NET yang ada dalam aplikasi LINQ ke SQL.\n",
    "Fungsi Database\n",
    "\n",
    "Menghindari data ganda yang tersimpan. Memudahkan akses, simpan, pembaruan, dan penghapusan data. Menjadi penyimpanan data dari aplikasi atau situs web. Menjaga kualitas data yang diakses agar sesuai yang diinput."
   ]
  },
  {
   "cell_type": "code",
   "execution_count": null,
   "metadata": {},
   "outputs": [],
   "source": [
    "import sqlite3\n",
    "\n",
    "# Membuat atau membuka koneksi ke database\n",
    "conn = sqlite3.connect('example.db')\n",
    "\n",
    "# Membuat cursor\n",
    "cursor = conn.cursor()\n",
    "\n",
    "# Membuat tabel\n",
    "cursor.execute('''\n",
    "CREATE TABLE IF NOT EXISTS users (\n",
    "    id INTEGER PRIMARY KEY,\n",
    "    name TEXT,\n",
    "    age INTEGER\n",
    ")\n",
    "''')\n",
    "\n",
    "# Menambahkan data ke tabel\n",
    "cursor.execute('''\n",
    "INSERT INTO users (name, age)\n",
    "VALUES ('Alice', 30), ('Bob', 25)\n",
    "''')\n",
    "\n",
    "# Menyimpan perubahan\n",
    "conn.commit()\n",
    "\n",
    "# Mengambil data dari tabel\n",
    "cursor.execute('SELECT * FROM users')\n",
    "rows = cursor.fetchall()\n",
    "for row in rows:\n",
    "    print(row)\n",
    "\n",
    "# Memperbarui data\n",
    "cursor.execute('''\n",
    "UPDATE users\n",
    "SET age = 31\n",
    "WHERE name = 'Alice'\n",
    "''')\n",
    "conn.commit()\n",
    "\n",
    "# Menghapus data\n",
    "cursor.execute('''\n",
    "DELETE FROM users\n",
    "WHERE name = 'Bob'\n",
    "''')\n",
    "conn.commit()\n",
    "\n",
    "# Menutup koneksi\n",
    "conn.close()\n"
   ]
  }
 ],
 "metadata": {
  "language_info": {
   "name": "python"
  }
 },
 "nbformat": 4,
 "nbformat_minor": 2
}
