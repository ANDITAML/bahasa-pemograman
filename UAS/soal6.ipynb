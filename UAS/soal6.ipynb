{
 "cells": [
  {
   "cell_type": "markdown",
   "metadata": {},
   "source": [
    "#\n",
    "### nama:Andita Aditia\n",
    "### nim: 20230801318\n",
    "\n"
   ]
  },
  {
   "cell_type": "markdown",
   "metadata": {},
   "source": [
    "## analisa \n",
    "###  pengaduan adalah cara atau perbuatan mengadu dan ungkapan rasa tidak senang atau tidak puas akan hal-hal yang tidak begitu penting, tetapi perlu diperhatikan. Pengertian Komplain atau keluhan adalah saran dan masukan berupa kritikan dan atau keberatan yang disampaikan secara lisan ataupun tertulis dari pihak eksternal maupun internal."
   ]
  },
  {
   "cell_type": "code",
   "execution_count": null,
   "metadata": {},
   "outputs": [],
   "source": [
    "import csv\n",
    "import os\n",
    "\n",
    "# Nama file untuk menyimpan data pengaduan\n",
    "file_name = 'pengaduan.csv'\n",
    "\n",
    "# Memeriksa apakah file pengaduan sudah ada atau belum\n",
    "if not os.path.exists(file_name):\n",
    "    # Jika belum ada, buat file dan tulis header\n",
    "    with open(file_name, mode='w', newline='') as file:\n",
    "        writer = csv.writer(file)\n",
    "        writer.writerow(['ID', 'Nama', 'Email', 'Deskripsi'])\n",
    "\n",
    "# Fungsi untuk menambahkan pengaduan baru\n",
    "def tambah_pengaduan(nama, email, deskripsi):\n",
    "    # Membaca ID terakhir dari file pengaduan\n",
    "    with open(file_name, mode='r', newline='') as file:\n",
    "        reader = csv.reader(file)\n",
    "        data = list(reader)\n",
    "        if len(data) > 1:\n",
    "            last_id = int(data[-1][0])\n",
    "        else:\n",
    "            last_id = 0\n",
    "\n",
    "    # Menambah pengaduan baru\n",
    "    new_id = last_id + 1\n",
    "    with open(file_name, mode='a', newline='') as file:\n",
    "        writer = csv.writer(file)\n",
    "        writer.writerow([new_id, nama, email, deskripsi])\n",
    "    print(f'Pengaduan ID {new_id} telah ditambahkan.')\n",
    "\n",
    "# Fungsi untuk melihat semua pengaduan\n",
    "def lihat_pengaduan():\n",
    "    with open(file_name, mode='r', newline='') as file:\n",
    "        reader = csv.reader(file)\n",
    "        for row in reader:\n",
    "            print(row)\n",
    "\n",
    "# Fungsi untuk mencari pengaduan berdasarkan ID\n",
    "def cari_pengaduan(id_pengaduan):\n",
    "    with open(file_name, mode='r', newline='') as file:\n",
    "        reader = csv.reader(file)\n",
    "        for row in reader:\n",
    "            if row[0] == str(id_pengaduan):\n",
    "                print(row)\n",
    "                return\n",
    "    print(f'Pengaduan dengan ID {id_pengaduan} tidak ditemukan.')\n",
    "\n",
    "# Contoh penggunaan\n",
    "tambah_pengaduan('yuni', 'yuni@example.com', 'Komplain tentang produk sepatu.')\n",
    "tambah_pengaduan('Salsa bila', 'salsa@example.com', 'Pengaduan mengenai layanan internet.')\n",
    "tambah_pengaduan('putri', 'putri@example.com', 'Komplain tentang produk tas.')\n",
    "tambah_pengaduan('scinta', 'scinta@example.com', 'Pengaduan mengenai layanan hotel.')\n",
    "\n",
    "print('Semua pengaduan:')\n",
    "lihat_pengaduan()\n",
    "\n",
    "print('Mencari pengaduan dengan ID 1:')\n",
    "cari_pengaduan(3)\n"
   ]
  },
  {
   "cell_type": "markdown",
   "metadata": {},
   "source": [
    "Function adalah blok kode yang dirancang untuk melakukan tugas tertentu dan dapat dipanggil di tempat lain dalam program. Functions membantu dalam mengatur kode dengan lebih baik, meningkatkan keterbacaan, dan mengurangi pengulangan."
   ]
  },
  {
   "cell_type": "code",
   "execution_count": null,
   "metadata": {},
   "outputs": [],
   "source": [
    "def tambah(angka1, angka2):\n",
    "    return angka1 + angka2\n",
    "\n",
    "hasil = tambah(5, 3)\n",
    "print(\"Hasil penjumlahan:\", hasil)\n",
    "def faktorial(n):\n",
    "    if n == 1:  # Base case\n",
    "        return 1\n",
    "    else:\n",
    "        return n * faktorial(n - 1)  # Recursive case\n",
    "\n",
    "hasil = faktorial(5)\n",
    "print(\"Hasil faktorial:\", hasil)\n",
    "\n",
    "\n",
    "\n"
   ]
  }
 ],
 "metadata": {
  "kernelspec": {
   "display_name": "Python 3",
   "language": "python",
   "name": "python3"
  },
  "language_info": {
   "name": "python",
   "version": "3.10.12"
  }
 },
 "nbformat": 4,
 "nbformat_minor": 2
}
