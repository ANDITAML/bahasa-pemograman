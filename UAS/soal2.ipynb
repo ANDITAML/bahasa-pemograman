{
 "cells": [
  {
   "cell_type": "markdown",
   "metadata": {},
   "source": [
    "jelaskan menurut anda apa itu function of exceptopn handeling di python dan berikan contoh codingan serta capture \n",
    "\n",
    "Exception Handling adalah mekanisme untuk menangani kesalahan runtime yang terjadi saat menjalankan program. Dengan exception handling, kita dapat mengelola error yang mungkin terjadi tanpa menghentikan program secara tiba-tiba."
   ]
  },
  {
   "cell_type": "code",
   "execution_count": 1,
   "metadata": {},
   "outputs": [
    {
     "name": "stdout",
     "output_type": "stream",
     "text": [
      "Operasi pembagian selesai.\n",
      "Hasil: 5.0\n",
      "Error: Tidak dapat membagi dengan nol!\n",
      "Operasi pembagian selesai.\n",
      "Hasil: None\n"
     ]
    }
   ],
   "source": [
    "def bagi(a, b):\n",
    "    try:\n",
    "        hasil = a / b\n",
    "    except ZeroDivisionError:\n",
    "        print(\"Error: Tidak dapat membagi dengan nol!\")\n",
    "        return None\n",
    "    else:\n",
    "        return hasil\n",
    "    finally:\n",
    "        print(\"Operasi pembagian selesai.\")\n",
    "\n",
    "# Contoh penggunaan\n",
    "hasil1 = bagi(10, 2)\n",
    "print(\"Hasil:\", hasil1)\n",
    "\n",
    "hasil2 = bagi(10, 0)\n",
    "print(\"Hasil:\", hasil2)\n"
   ]
  },
  {
   "cell_type": "markdown",
   "metadata": {},
   "source": []
  }
 ],
 "metadata": {
  "kernelspec": {
   "display_name": "Python 3",
   "language": "python",
   "name": "python3"
  },
  "language_info": {
   "codemirror_mode": {
    "name": "ipython",
    "version": 3
   },
   "file_extension": ".py",
   "mimetype": "text/x-python",
   "name": "python",
   "nbconvert_exporter": "python",
   "pygments_lexer": "ipython3",
   "version": "3.10.12"
  }
 },
 "nbformat": 4,
 "nbformat_minor": 2
}
